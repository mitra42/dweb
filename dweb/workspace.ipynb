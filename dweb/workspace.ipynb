{
 "cells": [
  {
   "cell_type": "code",
   "execution_count": 56,
   "metadata": {
    "collapsed": true
   },
   "outputs": [
    {
     "name": "stdout",
     "output_type": "stream",
     "text": [
      "encrypted data: \n,�Z5��v�\u001e\b�A�\u0005T�᰿���^�7v����\u0011UŮ��`9��W#���\u0013�)<\u0010L<\u0019\u001f��޷�;i�\r�}���q���.�\u0012�Y�j��VwsT�-\f�,�\u0012B4��\b3�\u0018��rML\u0000�\u0007VT0�r\f\u0019=O���x�o:u��\ndecrypted data: Quick brown fox eats slow dog\n"
     ]
    }
   ],
   "source": [
    "from Crypto.PublicKey import RSA\n",
    "from Crypto import Random\n",
    "\n",
    "\n",
    "random_generator = Random.new().read\n",
    "key = RSA.generate(1024, random_generator)\n",
    "public_key = key.publickey()\n",
    "exportedkey=public_key.exportKey(\"PEM\")\n",
    "\n",
    "f = \"Quick brown fox eats slow dog\"\n",
    "\n",
    "newpublic = RSA.importKey(exportedkey)\n",
    "enc_data = newpublic.encrypt(f,32)[0]\n",
    "print 'encrypted data: '\n",
    "print enc_data\n",
    "\n",
    "dec_data = key.decrypt(enc_data)\n",
    "print 'decrypted data: '+ dec_data"
   ]
  },
  {
   "cell_type": "code",
   "execution_count": 76,
   "metadata": {},
   "outputs": [
    {
     "name": "stdout",
     "output_type": "stream",
     "text": [
      "-----BEGIN PUBLIC KEY-----\nMIGfMA0GCSqGSIb3DQEBAQUAA4GNADCBiQKBgQDCqJYGafOLGK+x+TAzAk6UbE4Z\nFNDq40vG/HG97r4bxm5Y52+lilQ1j34Dy9oTqTUfY8ih2eJAmPQ1/gBH0/iEYiJ3\nxs/AFoF56lLrw6TwWmUl9qtmdL/+zquuAwyudo/Rpoi6DN4B51uMY+PohkPhISMY\nizkYYqZr6hTTVMPoxwIDAQAB\n-----END PUBLIC KEY-----\nencrypted data: ksvN2MaVXLmjlzw2IXrLR5S-V5713o-GZx6Wys8QY6AcKS9WMSsYuZ5b3DzsI4jB8jCbRyFr9rVBI9NE2sSeotaNGWegGHvsr9XDL8IIFJ-wzGFhjtajQK5nseOEXpLrulD7wyiQmL1DVUmSd0fD0E4VGsCwy2aGObtxlWbM7fY=\nTrue\n"
     ]
    }
   ],
   "source": [
    "from Crypto.PublicKey import RSA\n",
    "from Crypto import Random\n",
    "from hmac import HMAC\n",
    "import hashlib\n",
    "import base64\n",
    "\n",
    "\n",
    "random_generator = Random.new().read\n",
    "key = RSA.generate(1024, random_generator)\n",
    "public_key = key.publickey()\n",
    "exportedkey=public_key.exportKey(\"PEM\")\n",
    "print exportedkey\n",
    "\n",
    "f = \"Quick brown fox eats slow dog\"\n",
    "h = HMAC(\"\",f,hashlib.sha1).digest()\n",
    "#print \"h=\",h\n",
    "\n",
    "newpublic = RSA.importKey(exportedkey)\n",
    "enc_data = base64.urlsafe_b64encode(key.decrypt(h))\n",
    "print 'encrypted data: '+  enc_data\n",
    "\n",
    "dec_data = public_key.encrypt(base64.urlsafe_b64decode(enc_data), 32)[0]\n",
    "#print 'decrypted data: '\n",
    "#print dec_data\n",
    "print h == dec_data"
   ]
  },
  {
   "cell_type": "code",
   "execution_count": 3,
   "metadata": {},
   "outputs": [
    {
     "name": "stdout",
     "output_type": "stream",
     "text": [
      "Goodbye\nX\"Hello weorld\"Y\n"
     ]
    }
   ],
   "source": [
    "from json import dumps\n",
    "print \"Goodbye\"\n",
    "print \"X\"+dumps(\"Hello weorld\")+\"Y\""
   ]
  },
  {
   "cell_type": "code",
   "execution_count": null,
   "metadata": {},
   "outputs": [],
   "source": [
    ""
   ]
  }
 ],
 "metadata": {
  "kernelspec": {
   "display_name": "Python 2",
   "language": "python",
   "name": "python2"
  },
  "language_info": {
   "codemirror_mode": {
    "name": "ipython",
    "version": 2.0
   },
   "file_extension": ".py",
   "mimetype": "text/x-python",
   "name": "python",
   "nbconvert_exporter": "python",
   "pygments_lexer": "ipython2",
   "version": "2.7.6"
  }
 },
 "nbformat": 4,
 "nbformat_minor": 0
}